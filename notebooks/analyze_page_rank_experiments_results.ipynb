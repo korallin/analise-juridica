{
 "cells": [
  {
   "cell_type": "code",
   "execution_count": 10,
   "metadata": {},
   "outputs": [],
   "source": [
    "import os\n",
    "import pandas as pd\n",
    "from pymongo import MongoClient\n",
    "import numpy as np\n",
    "import scipy.stats as stats\n",
    "import seaborn as sns\n",
    "pd.set_option('max_colwidth', 90)"
   ]
  },
  {
   "cell_type": "code",
   "execution_count": null,
   "metadata": {},
   "outputs": [],
   "source": []
  },
  {
   "cell_type": "code",
   "execution_count": 11,
   "metadata": {},
   "outputs": [],
   "source": [
    "def get_db_object():\n",
    "    \"\"\"\n",
    "    \"\"\"\n",
    "    MONGO_URI = os.getenv(\"MONGO_URI\")\n",
    "    MONGO_DATABASE = \"DJs_v7\"\n",
    "\n",
    "    client = MongoClient(MONGO_URI)\n",
    "    db = client[MONGO_DATABASE]\n",
    "    return db\n",
    "\n",
    "\n",
    "def get_decisions_collection(db, collection_name):\n",
    "    \"\"\"\n",
    "    \"\"\"\n",
    "    page_ranks_iters = []\n",
    "    selected_keys = {\"acordaoId\": 1, \"pageRank\": 1, \"relator\": 1}\n",
    "    df_collection = pd.DataFrame()\n",
    "    for i in range(1, 11):\n",
    "        coll_name_iter_i = collection_name + \"_%d\" % i\n",
    "        page_ranks_cursor = (\n",
    "            db[coll_name_iter_i]\n",
    "            .find({}, selected_keys)\n",
    "            .sort([(\"pageRank\", -1)])\n",
    "            .limit(100)\n",
    "        )\n",
    "        df = pd.DataFrame(page_ranks_cursor)\n",
    "        df[\"collection_iter\"] = i\n",
    "        df.drop(\"_id\", axis=1, inplace=True)\n",
    "        df_collection = df_collection.append(df)\n",
    "\n",
    "    return df_collection\n",
    "\n",
    "\n",
    "def get_top_10_magistrates(df_magistrates_decs_lst):\n",
    "    \"\"\"\n",
    "    \"\"\"\n",
    "    top_10_magistrates = []\n",
    "    for df_magistrates_decs_pr_models in df_magistrates_decs_lst:\n",
    "        relator = df_magistrates_decs_pr_models[0][\"relator\"].value_counts().index[0]\n",
    "        top_10_magistrates.append(relator)\n",
    "\n",
    "    return top_10_magistrates\n",
    "\n",
    "\n",
    "def get_number_of_decisions_with_without_similars(db, coll_name, relatores=None):\n",
    "    \"\"\"\n",
    "    \"\"\"\n",
    "    with_without_similars_sizes = []\n",
    "    if relatores:\n",
    "        for i, relator in enumerate(relatores):\n",
    "            with_without_similars_sizes.append([i + 1, relator, db[coll_name.format(i+1)].find({}).count(),\n",
    "                                                db[\"acordaos\"].find({\"relator\": {\"$eq\": relator}}).count()])\n",
    "        with_without_similars_sizes = sorted(with_without_similars_sizes, reverse=True, key=lambda x: x[3])\n",
    "    else:\n",
    "        with_without_similars_sizes.extend([db[coll_name].find({}).count(), db[\"acordaos\"].find({}).count()])\n",
    "\n",
    "    return with_without_similars_sizes\n",
    "\n",
    "\n",
    "def get_intersection_decisions(df1, df2):\n",
    "    \"\"\"\n",
    "    \"\"\"\n",
    "    return df1[df1[\"acordaoId\"].isin(df2[\"acordaoId\"])]\n",
    "\n",
    "\n",
    "def get_intersection_decisions_first_iter(df1, df2):\n",
    "    \"\"\"\n",
    "    \"\"\"\n",
    "    df1_iter1 = df1[df1[\"collection_iter\"] == 1]\n",
    "    df2_iter1 = df2[df2[\"collection_iter\"] == 1]\n",
    "\n",
    "    df_intersection_decs = get_intersection_decisions(df1_iter1, df2_iter1)\n",
    "    df_intersection_decs.drop(\"collection_iter\", axis=1, inplace=True)\n",
    "    return df_intersection_decs\n",
    "\n",
    "\n",
    "def get_decisions_in_at_least_8_iters_of_10(df_collection):\n",
    "    \"\"\"\n",
    "    \"\"\"\n",
    "    df_collection_ids = df_collection[\"acordaoId\"].value_counts()\n",
    "    df_ids_in_8_to_10_iters = df_collection_ids[df_collection_ids >= 8].reset_index()\n",
    "    df_ids_in_8_to_10_iters.drop(\"acordaoId\", axis=1, inplace=True)\n",
    "    df_ids_in_8_to_10_iters = df_ids_in_8_to_10_iters.rename(\n",
    "        columns={\"index\": \"acordaoId\"}\n",
    "    )\n",
    "    df_ids_in_8_to_10_iters = df_collection[\n",
    "        df_collection[\"acordaoId\"].isin(df_ids_in_8_to_10_iters[\"acordaoId\"])\n",
    "    ].drop_duplicates(\"acordaoId\")\n",
    "    return df_ids_in_8_to_10_iters\n",
    "\n",
    "\n",
    "def get_decisions_dataframes_tabulated(db, coll_name, perturbances, pr_models):\n",
    "    \"\"\"\n",
    "    \"\"\"\n",
    "    coll_names = []\n",
    "    for perturbance in perturbances:\n",
    "        pr_models_coll_names = []\n",
    "        for pr_model in pr_models:\n",
    "            pr_models_coll_names.append(coll_name.format(pr_model, perturbance))\n",
    "        coll_names.append(pr_models_coll_names)\n",
    "\n",
    "    df_lst = []\n",
    "    for i, perturbance in enumerate(perturbances):\n",
    "        pr_models_dfs = []\n",
    "        for j, pr_model in enumerate(pr_models):\n",
    "            pr_models_dfs.append(get_decisions_collection(db, coll_names[i][j]))\n",
    "        df_lst.append(pr_models_dfs)\n",
    "\n",
    "    return df_lst\n",
    "\n",
    "\n",
    "def get_network_robutness_tabulated(df_perturbations):\n",
    "    \"\"\"\n",
    "    \"\"\"\n",
    "    df_robustness_lst = []\n",
    "    for df_perturbation in df_perturbations:\n",
    "        df_perturbation_lst = []\n",
    "        for df_pr_model in df_perturbation:\n",
    "            df_perturbation_lst.append(\n",
    "                get_decisions_in_at_least_8_iters_of_10(df_pr_model)\n",
    "            )\n",
    "        df_robustness_lst.append(df_perturbation_lst)\n",
    "\n",
    "    return df_robustness_lst\n",
    "\n",
    "\n",
    "def get_intersection_decisions_tabulated(df_perturbations):\n",
    "    \"\"\"\n",
    "    \"\"\"\n",
    "    df_intersect_lst = []\n",
    "    for df_perturbation in df_perturbations:\n",
    "        df_intersect_lst.append(get_intersection_decisions(*df_perturbation))\n",
    "\n",
    "    return df_intersect_lst\n",
    "\n",
    "\n",
    "def get_intersection_decisions_first_iter_tabulated(df_perturbations):\n",
    "    \"\"\"\n",
    "    \"\"\"\n",
    "    df_intersect_lst = []\n",
    "    for df_perturbation in df_perturbations:\n",
    "        df_intersect_lst.append(get_intersection_decisions_first_iter(*df_perturbation))\n",
    "\n",
    "    return df_intersect_lst\n",
    "\n",
    "\n",
    "def get_absent_magistrates(df_perturbance_lst, top_10_magistrates):\n",
    "    absent_relator_perturbances = []\n",
    "    for df_perturbance in df_perturbance_lst:\n",
    "        absent_relator_pr_models = []\n",
    "        for pr_model in df_perturbance:\n",
    "            absent_relator_pr_models.append(list(set(top_10_magistrates) - set(pr_model[pr_model[\"relator\"].isin(top_10_magistrates)][\"relator\"])))\n",
    "        absent_relator_perturbances.append(absent_relator_pr_models)\n",
    "\n",
    "    return absent_relator_perturbances\n",
    "\n",
    "\n",
    "def calc_qui_square_test(df):\n",
    "    quisq_test, p_value, dof, _ = stats.chi2_contingency(df.values)\n",
    "\n",
    "    print(quisq_test, p_value, dof, _)\n",
    "\n",
    "\n",
    "def create_dataframe_from_list_of_list_sizes(dfs_lst, columns, index):\n",
    "    \"\"\"\n",
    "    \"\"\"\n",
    "    df = pd.DataFrame(\n",
    "        [[len(df) for df in dfs] for dfs in dfs_lst], columns=columns, index=index\n",
    "    )\n",
    "    return df\n",
    "\n",
    "\n",
    "def create_dataframe_from_list_sizes(dfs, columns, index):\n",
    "    \"\"\"\n",
    "    \"\"\"\n",
    "    df = pd.DataFrame([len(df) for df in dfs], columns=columns, index=index)\n",
    "    return df"
   ]
  },
  {
   "cell_type": "markdown",
   "metadata": {},
   "source": [
    "### Getting database experiments results and top 10 magistrates which have more decisions\n",
    "\n",
    "103168 Collegiate decisions (acórdãos) collected from 01/02/2001 until 01/01/2020"
   ]
  },
  {
   "cell_type": "code",
   "execution_count": 12,
   "metadata": {},
   "outputs": [
    {
     "data": {
      "text/plain": [
       "['MARCO AURÉLIO',\n",
       " 'CÁRMEN LÚCIA',\n",
       " 'GILMAR MENDES',\n",
       " 'RICARDO LEWANDOWSKI',\n",
       " 'DIAS TOFFOLI',\n",
       " 'LUIZ FUX',\n",
       " 'ROSA WEBER',\n",
       " 'ROBERTO BARROSO',\n",
       " 'CELSO DE MELLO',\n",
       " 'ELLEN GRACIE']"
      ]
     },
     "execution_count": 12,
     "metadata": {},
     "output_type": "execute_result"
    }
   ],
   "source": [
    "db = get_db_object()\n",
    "\n",
    "df_all_decs_lst = get_decisions_dataframes_tabulated(\n",
    "    db,\n",
    "    \"stf_pr_{}_acordaos_{}\", [10, 20, 30], [1, 2]\n",
    ")\n",
    "df_all_decs_no_similars_lst = get_decisions_dataframes_tabulated(\n",
    "    db,\n",
    "    \"stf_pr_{}_acordaos_{}_no_similars\", [10], [1, 2]\n",
    ")\n",
    "df_magistrates_decs_lst = []\n",
    "top_magistrates_n = 10\n",
    "for magistrate_i in range(top_magistrates_n):\n",
    "    df_magistrates_decs_lst.extend(\n",
    "        get_decisions_dataframes_tabulated(\n",
    "            db,\n",
    "            \"stf_pr_{}_acordaos_{}_rel\" + \"_{mag}\".format(mag=magistrate_i + 1),\n",
    "            [10],\n",
    "            [1, 2],\n",
    "        )\n",
    "    )\n",
    "\n",
    "top_10_magistrates = get_top_10_magistrates(df_magistrates_decs_lst)\n",
    "top_10_magistrates"
   ]
  },
  {
   "cell_type": "code",
   "execution_count": 13,
   "metadata": {},
   "outputs": [
    {
     "data": {
      "text/plain": [
       "MARCO AURÉLIO          21811\n",
       "                          66\n",
       "CEZAR PELUSO               6\n",
       "CARLOS VELLOSO             5\n",
       "SEPÚLVEDA PERTENCE         3\n",
       "MAURÍCIO CORRÊA            3\n",
       "ELLEN GRACIE               2\n",
       "RICARDO LEWANDOWSKI        2\n",
       "JOSÉ LINHARES              1\n",
       "NELSON JOBIM               1\n",
       "JOAQUIM BARBOSA            1\n",
       "***                        1\n",
       "NÉRI DA SILVEIRA           1\n",
       "MENEZES DIREITO            1\n",
       "Name: relator, dtype: int64"
      ]
     },
     "execution_count": 13,
     "metadata": {},
     "output_type": "execute_result"
    }
   ],
   "source": [
    "page_ranks_iters = []\n",
    "selected_keys = {\"acordaoId\": 1, \"pageRank\": 1, \"relator\": 1}\n",
    "df_collection = pd.DataFrame()\n",
    "i = 1\n",
    "coll_name_iter_i = \"stf_pr_1_acordaos_10_rel\" + \"_1\" + \"_%d\" % i\n",
    "page_ranks_cursor = (\n",
    "    db[coll_name_iter_i]\n",
    "    .find({}, selected_keys)\n",
    "    .sort([(\"pageRank\", -1)])\n",
    ")\n",
    "df = pd.DataFrame(page_ranks_cursor)\n",
    "df.drop(\"_id\", axis=1, inplace=True)\n",
    "\n",
    "df[\"relator\"].value_counts()"
   ]
  },
  {
   "cell_type": "markdown",
   "metadata": {},
   "source": [
    "### Comparison of number of decisions considering similar decisions and nor considering them"
   ]
  },
  {
   "cell_type": "code",
   "execution_count": 14,
   "metadata": {},
   "outputs": [],
   "source": [
    "with_without_similars_all_decisions_size = get_number_of_decisions_with_without_similars(db, \"stf_pr_1_acordaos_10_1\")\n",
    "with_without_similars_magistrates_size = get_number_of_decisions_with_without_similars(db, \"stf_pr_1_acordaos_10_rel_{}_1\", top_10_magistrates)"
   ]
  },
  {
   "cell_type": "code",
   "execution_count": 15,
   "metadata": {},
   "outputs": [
    {
     "data": {
      "text/html": [
       "<div>\n",
       "<style scoped>\n",
       "    .dataframe tbody tr th:only-of-type {\n",
       "        vertical-align: middle;\n",
       "    }\n",
       "\n",
       "    .dataframe tbody tr th {\n",
       "        vertical-align: top;\n",
       "    }\n",
       "\n",
       "    .dataframe thead th {\n",
       "        text-align: right;\n",
       "    }\n",
       "</style>\n",
       "<table border=\"1\" class=\"dataframe\">\n",
       "  <thead>\n",
       "    <tr style=\"text-align: right;\">\n",
       "      <th></th>\n",
       "      <th>with similars</th>\n",
       "      <th>without_similars</th>\n",
       "    </tr>\n",
       "  </thead>\n",
       "  <tbody>\n",
       "    <tr>\n",
       "      <th>all decisions</th>\n",
       "      <td>255942</td>\n",
       "      <td>103168</td>\n",
       "    </tr>\n",
       "  </tbody>\n",
       "</table>\n",
       "</div>"
      ],
      "text/plain": [
       "               with similars  without_similars\n",
       "all decisions         255942            103168"
      ]
     },
     "execution_count": 15,
     "metadata": {},
     "output_type": "execute_result"
    }
   ],
   "source": [
    "df_decisions_with_without_similars_sizes = pd.DataFrame([with_without_similars_all_decisions_size], columns=[\"with similars\", \"without_similars\"], index=[\"all decisions\"])\n",
    "df_decisions_with_without_similars_sizes"
   ]
  },
  {
   "cell_type": "code",
   "execution_count": 16,
   "metadata": {},
   "outputs": [
    {
     "data": {
      "text/html": [
       "<div>\n",
       "<style scoped>\n",
       "    .dataframe tbody tr th:only-of-type {\n",
       "        vertical-align: middle;\n",
       "    }\n",
       "\n",
       "    .dataframe tbody tr th {\n",
       "        vertical-align: top;\n",
       "    }\n",
       "\n",
       "    .dataframe thead th {\n",
       "        text-align: right;\n",
       "    }\n",
       "</style>\n",
       "<table border=\"1\" class=\"dataframe\">\n",
       "  <thead>\n",
       "    <tr style=\"text-align: right;\">\n",
       "      <th></th>\n",
       "      <th>with similars</th>\n",
       "      <th>without_similars</th>\n",
       "    </tr>\n",
       "    <tr>\n",
       "      <th>Magistrate</th>\n",
       "      <th></th>\n",
       "      <th></th>\n",
       "    </tr>\n",
       "  </thead>\n",
       "  <tbody>\n",
       "    <tr>\n",
       "      <th>CELSO DE MELLO</th>\n",
       "      <td>23824</td>\n",
       "      <td>4622</td>\n",
       "    </tr>\n",
       "    <tr>\n",
       "      <th>MARCO AURÉLIO</th>\n",
       "      <td>21904</td>\n",
       "      <td>10732</td>\n",
       "    </tr>\n",
       "    <tr>\n",
       "      <th>CÁRMEN LÚCIA</th>\n",
       "      <td>17335</td>\n",
       "      <td>8714</td>\n",
       "    </tr>\n",
       "    <tr>\n",
       "      <th>GILMAR MENDES</th>\n",
       "      <td>16691</td>\n",
       "      <td>8392</td>\n",
       "    </tr>\n",
       "    <tr>\n",
       "      <th>RICARDO LEWANDOWSKI</th>\n",
       "      <td>13975</td>\n",
       "      <td>6905</td>\n",
       "    </tr>\n",
       "    <tr>\n",
       "      <th>ELLEN GRACIE</th>\n",
       "      <td>12655</td>\n",
       "      <td>4581</td>\n",
       "    </tr>\n",
       "    <tr>\n",
       "      <th>DIAS TOFFOLI</th>\n",
       "      <td>12238</td>\n",
       "      <td>6443</td>\n",
       "    </tr>\n",
       "    <tr>\n",
       "      <th>ROSA WEBER</th>\n",
       "      <td>9882</td>\n",
       "      <td>6057</td>\n",
       "    </tr>\n",
       "    <tr>\n",
       "      <th>ROBERTO BARROSO</th>\n",
       "      <td>9458</td>\n",
       "      <td>5539</td>\n",
       "    </tr>\n",
       "    <tr>\n",
       "      <th>LUIZ FUX</th>\n",
       "      <td>9448</td>\n",
       "      <td>6190</td>\n",
       "    </tr>\n",
       "  </tbody>\n",
       "</table>\n",
       "</div>"
      ],
      "text/plain": [
       "                     with similars  without_similars\n",
       "Magistrate                                          \n",
       "CELSO DE MELLO               23824              4622\n",
       "MARCO AURÉLIO                21904             10732\n",
       "CÁRMEN LÚCIA                 17335              8714\n",
       "GILMAR MENDES                16691              8392\n",
       "RICARDO LEWANDOWSKI          13975              6905\n",
       "ELLEN GRACIE                 12655              4581\n",
       "DIAS TOFFOLI                 12238              6443\n",
       "ROSA WEBER                    9882              6057\n",
       "ROBERTO BARROSO               9458              5539\n",
       "LUIZ FUX                      9448              6190"
      ]
     },
     "execution_count": 16,
     "metadata": {},
     "output_type": "execute_result"
    }
   ],
   "source": [
    "df_decisions_with_without_similars_magistrates_sizes = pd.DataFrame(sorted([x[1:] for x in with_without_similars_magistrates_size],\n",
    "                                                                    key=lambda x: x[1], reverse=True),\n",
    "                                                                    columns=[\"Magistrate\", \"with similars\", \"without_similars\"]).set_index(\"Magistrate\")\n",
    "df_decisions_with_without_similars_magistrates_sizes"
   ]
  },
  {
   "cell_type": "markdown",
   "metadata": {},
   "source": [
    "### Getting PageRank top 100 decisions data tabulated for all decisions, for top 10 magistrates, and without similar decisions"
   ]
  },
  {
   "cell_type": "code",
   "execution_count": 17,
   "metadata": {},
   "outputs": [],
   "source": [
    "df_robustness_lst = get_network_robutness_tabulated(df_all_decs_lst)\n",
    "df_robustness_no_similars_lst = get_network_robutness_tabulated(\n",
    "    df_all_decs_no_similars_lst\n",
    ")\n",
    "df_robustness_magistrates_lst = get_network_robutness_tabulated(\n",
    "    df_magistrates_decs_lst\n",
    ")"
   ]
  },
  {
   "cell_type": "markdown",
   "metadata": {},
   "source": [
    "### Getting intersections of top 100 decisions measures between both pageRank models for all decisions, for top 10 magistrates, and without similar decisions"
   ]
  },
  {
   "cell_type": "code",
   "execution_count": 18,
   "metadata": {},
   "outputs": [],
   "source": [
    "df_robustness_intersect_all_decs_lst = get_intersection_decisions_tabulated(\n",
    "    df_robustness_lst\n",
    ")\n",
    "df_robustness_intersect_no_similars_lst = get_intersection_decisions_tabulated(\n",
    "    df_robustness_no_similars_lst\n",
    ")\n",
    "df_robustness_intersect_magistrates_lst = get_intersection_decisions_tabulated(\n",
    "    df_robustness_magistrates_lst\n",
    ")\n",
    "df_robustness_intersect_between_with_and_without_sim_pr1_lst = get_intersection_decisions_tabulated(\n",
    "    [[df_robustness_lst[0][0], df_robustness_no_similars_lst[0][0]]]\n",
    ")\n",
    "df_robustness_intersect_between_with_and_without_sim_pr2_lst = get_intersection_decisions_tabulated(\n",
    "    [[df_robustness_lst[0][1], df_robustness_no_similars_lst[0][1]]]\n",
    ")"
   ]
  },
  {
   "cell_type": "markdown",
   "metadata": {},
   "source": [
    "### Building robustness tables for all PageRank top 100 measures (all decisions, top 10 magistrates, and without similar decisions)"
   ]
  },
  {
   "cell_type": "code",
   "execution_count": 19,
   "metadata": {},
   "outputs": [
    {
     "data": {
      "text/plain": [
       "[[        acordaoId        relator  pageRank  collection_iter\n",
       "  0       RE 272872   ILMAR GALVÃO  0.127154                1\n",
       "  1   AGR RE 403395  CARLOS BRITTO  0.039215                1\n",
       "  2   AGR RE 405082  CARLOS BRITTO  0.038852                1\n",
       "  3   AGR RE 405097  CARLOS BRITTO  0.038836                1\n",
       "  4   AGR RE 405511  CARLOS BRITTO  0.038836                1\n",
       "  ..            ...            ...       ...              ...\n",
       "  94  AGR RE 397703   ELLEN GRACIE  0.000451                1\n",
       "  95  AGR RE 408898   ELLEN GRACIE  0.000451                1\n",
       "  96  AGR RE 420132   ELLEN GRACIE  0.000451                1\n",
       "  97  AGR RE 424488   ELLEN GRACIE  0.000451                1\n",
       "  98  AGR RE 426018   ELLEN GRACIE  0.000451                1\n",
       "  \n",
       "  [76 rows x 4 columns],\n",
       "           acordaoId              relator      pageRank  collection_iter\n",
       "  0    AGR AI 488966        GILMAR MENDES  3.532185e-02                1\n",
       "  1    AGR AI 506475   SEPÚLVEDA PERTENCE  3.406013e-02                1\n",
       "  2    AGR AI 530087            EROS GRAU  3.405983e-02                1\n",
       "  3    AGR AI 530186            EROS GRAU  3.405983e-02                1\n",
       "  4    AGR AI 530196            EROS GRAU  3.405983e-02                1\n",
       "  ..             ...                  ...           ...              ...\n",
       "  93   AGR AI 380813        MOREIRA ALVES  5.919214e-07                1\n",
       "  95   AGR AI 437201         ELLEN GRACIE  5.816351e-07                1\n",
       "  96  AGR ARE 663031  RICARDO LEWANDOWSKI  5.673820e-07                1\n",
       "  88       RE 206048        MARCO AURÉLIO  5.679727e-07                2\n",
       "  91    ED AI 436371       CELSO DE MELLO  5.552837e-07                2\n",
       "  \n",
       "  [93 rows x 4 columns]],\n",
       " [        acordaoId                     relator  pageRank  collection_iter\n",
       "  0       RE 272872                ILMAR GALVÃO  0.127154                1\n",
       "  1   AGR RE 403395               CARLOS BRITTO  0.039215                1\n",
       "  2   AGR RE 405082               CARLOS BRITTO  0.038852                1\n",
       "  3   AGR RE 405097               CARLOS BRITTO  0.038836                1\n",
       "  4   AGR RE 405511               CARLOS BRITTO  0.038836                1\n",
       "  5       RE 396266              CARLOS VELLOSO  0.033300                1\n",
       "  19      RMS 23365               MARCO AURÉLIO  0.005199                1\n",
       "  20   QO AI 664567          SEPÚLVEDA PERTENCE  0.004464                1\n",
       "  25  AGR AI 192995              CARLOS VELLOSO  0.002571                1\n",
       "  28      RE 386723              CARLOS VELLOSO  0.002323                1\n",
       "  29  AGR RE 809910         RICARDO LEWANDOWSKI  0.002195                1\n",
       "  35      RE 557542         RICARDO LEWANDOWSKI  0.001596                1\n",
       "  37   QO AI 760358  GILMAR MENDES (PRESIDENTE)  0.001459                1\n",
       "  40      RE 317903          SEPÚLVEDA PERTENCE  0.001215                1\n",
       "  41   QO RE 540410                CEZAR PELUSO  0.001171                1\n",
       "  42  AGR RE 218129              CARLOS VELLOSO  0.001035                1\n",
       "  43        ADI 508              SYDNEY SANCHES  0.001011                1\n",
       "  44  AGR AI 419200               MOREIRA ALVES  0.000989                1\n",
       "  45  AGR AI 372358              CELSO DE MELLO  0.000988                1\n",
       "  48      RE 453740               GILMAR MENDES  0.000869                1\n",
       "  52  AGR AI 541696               MARCO AURÉLIO  0.000808                1\n",
       "  56  AGR AI 330970               MOREIRA ALVES  0.000760                1\n",
       "  57  QO MC AC 2177                ELLEN GRACIE  0.000747                1\n",
       "  58       RCL 7569                ELLEN GRACIE  0.000732                1\n",
       "  59  AGR AI 481531                ELLEN GRACIE  0.000705                1\n",
       "  60  AGR AI 330535             MAURÍCIO CORRÊA  0.000703                1\n",
       "  67   ED AI 497938               GILMAR MENDES  0.000581                1\n",
       "  86  AGR RE 478242          SEPÚLVEDA PERTENCE  0.000473                1\n",
       "  87  AGR RE 477499          SEPÚLVEDA PERTENCE  0.000472                1\n",
       "  88  AGR RE 478950          SEPÚLVEDA PERTENCE  0.000472                1\n",
       "  89  AGR RE 481093          SEPÚLVEDA PERTENCE  0.000472                1,\n",
       "           acordaoId                     relator      pageRank  collection_iter\n",
       "  34    QO AI 760358  GILMAR MENDES (PRESIDENTE)  3.487467e-06                1\n",
       "  35   AGR RE 569476                ELLEN GRACIE  2.603601e-06                1\n",
       "  36   AGR AI 330970               MOREIRA ALVES  2.322742e-06                1\n",
       "  37    QO AI 664567          SEPÚLVEDA PERTENCE  2.243392e-06                1\n",
       "  38   AGR AI 481531                ELLEN GRACIE  2.208534e-06                1\n",
       "  39   AGR AI 419200               MOREIRA ALVES  1.677092e-06                1\n",
       "  41   AGR AI 192995              CARLOS VELLOSO  1.575733e-06                1\n",
       "  42    AGR RCL 9471               GILMAR MENDES  1.471585e-06                1\n",
       "  43  AGR ARE 741867                  ROSA WEBER  1.226251e-06                1\n",
       "  46       HC 109956               MARCO AURÉLIO  9.913965e-07                1\n",
       "  47   AGR AI 541696               MARCO AURÉLIO  9.215003e-07                1\n",
       "  49    ED RCL 11022                CÁRMEN LÚCIA  8.964695e-07                1\n",
       "  51        HC 85185                CEZAR PELUSO  8.597094e-07                1\n",
       "  55   AGR RE 369696                   EROS GRAU  8.026775e-07                1\n",
       "  56  AGR ARE 966597               GILMAR MENDES  7.951034e-07                1\n",
       "  58   AGR AI 495880                CEZAR PELUSO  7.811806e-07                1\n",
       "  59   AGR RE 154158              CARLOS VELLOSO  7.789913e-07                1\n",
       "  60   AGR AI 481544              CELSO DE MELLO  7.676713e-07                1\n",
       "  61   AGR RE 327143              CARLOS VELLOSO  7.600910e-07                1\n",
       "  62   AGR AI 447774                ELLEN GRACIE  7.490348e-07                1\n",
       "  63   AGR AI 431665             JOAQUIM BARBOSA  7.487552e-07                1\n",
       "  64   AGR AI 372358              CELSO DE MELLO  7.373173e-07                1\n",
       "  65   AGR AI 643654                CÁRMEN LÚCIA  7.250798e-07                1\n",
       "  73   AGR RE 433818          SEPÚLVEDA PERTENCE  6.896452e-07                1\n",
       "  74  AGR ARE 672188   AYRES BRITTO (Presidente)  6.846285e-07                1],\n",
       " [         acordaoId                     relator  pageRank  collection_iter\n",
       "  0        RE 272872                ILMAR GALVÃO  0.127154                1\n",
       "  6    AGR RE 346177              CARLOS VELLOSO  0.024095                1\n",
       "  19       RMS 23365               MARCO AURÉLIO  0.005199                1\n",
       "  20    QO AI 664567          SEPÚLVEDA PERTENCE  0.004464                1\n",
       "  32   AGR RE 569476                ELLEN GRACIE  0.002126                1\n",
       "  33       RE 415454               GILMAR MENDES  0.001792                1\n",
       "  34       RE 416827               GILMAR MENDES  0.001790                1\n",
       "  35       RE 557542         RICARDO LEWANDOWSKI  0.001596                1\n",
       "  36  AGR ARE 845209               MARCO AURÉLIO  0.001596                1\n",
       "  37    QO AI 760358  GILMAR MENDES (PRESIDENTE)  0.001459                1\n",
       "  42   AGR RE 218129              CARLOS VELLOSO  0.001035                1\n",
       "  43         ADI 508              SYDNEY SANCHES  0.001011                1\n",
       "  44   AGR AI 419200               MOREIRA ALVES  0.000989                1\n",
       "  55        ADI 2797          SEPÚLVEDA PERTENCE  0.000768                1\n",
       "  92   AGR RE 352057                ELLEN GRACIE  0.000451                1\n",
       "  93   AGR RE 387202                ELLEN GRACIE  0.000451                1\n",
       "  94   AGR RE 397703                ELLEN GRACIE  0.000451                1\n",
       "  95   AGR RE 408898                ELLEN GRACIE  0.000451                1\n",
       "  96   AGR RE 420132                ELLEN GRACIE  0.000451                1,\n",
       "              acordaoId                     relator      pageRank  \\\n",
       "  2       AGR AI 530087                   EROS GRAU  3.405983e-02   \n",
       "  3       AGR AI 530186                   EROS GRAU  3.405983e-02   \n",
       "  4       AGR AI 530196                   EROS GRAU  3.405983e-02   \n",
       "  5       AGR AI 530236                   EROS GRAU  3.405983e-02   \n",
       "  6       AGR AI 530257                   EROS GRAU  3.405983e-02   \n",
       "  7       AGR AI 530287                   EROS GRAU  3.405983e-02   \n",
       "  8       AGR AI 530398                   EROS GRAU  3.405983e-02   \n",
       "  9       AGR AI 530408                   EROS GRAU  3.405983e-02   \n",
       "  10      AGR AI 530428                   EROS GRAU  3.405983e-02   \n",
       "  11      AGR AI 533862                   EROS GRAU  3.405983e-02   \n",
       "  12      AGR AI 533872                   EROS GRAU  3.405983e-02   \n",
       "  13      AGR AI 533979                   EROS GRAU  3.405983e-02   \n",
       "  14      AGR AI 534643                   EROS GRAU  3.405983e-02   \n",
       "  15      AGR AI 534700                   EROS GRAU  3.405983e-02   \n",
       "  16      AGR AI 534769                   EROS GRAU  3.405983e-02   \n",
       "  17      AGR AI 535149                   EROS GRAU  3.405983e-02   \n",
       "  18      AGR AI 538356                   EROS GRAU  3.405983e-02   \n",
       "  19      AGR AI 538427                   EROS GRAU  3.405983e-02   \n",
       "  20      AGR AI 538459                   EROS GRAU  3.405983e-02   \n",
       "  21      AGR AI 538470                   EROS GRAU  3.405983e-02   \n",
       "  22      AGR AI 538825                   EROS GRAU  3.405983e-02   \n",
       "  23      AGR AI 539192                   EROS GRAU  3.405983e-02   \n",
       "  24      AGR AI 539468                   EROS GRAU  3.405983e-02   \n",
       "  25      AGR AI 539479                   EROS GRAU  3.405983e-02   \n",
       "  26      AGR AI 538766                   EROS GRAU  3.405983e-02   \n",
       "  27      AGR AI 539048                   EROS GRAU  3.405983e-02   \n",
       "  28      AGR AI 529924                   EROS GRAU  3.405983e-02   \n",
       "  32          RE 416827               GILMAR MENDES  4.950749e-06   \n",
       "  33          RE 415454               GILMAR MENDES  4.933076e-06   \n",
       "  34       QO AI 760358  GILMAR MENDES (PRESIDENTE)  3.487467e-06   \n",
       "  35      AGR RE 569476                ELLEN GRACIE  2.603601e-06   \n",
       "  36      AGR AI 330970               MOREIRA ALVES  2.322742e-06   \n",
       "  39      AGR AI 419200               MOREIRA ALVES  1.677092e-06   \n",
       "  43     AGR ARE 741867                  ROSA WEBER  1.226251e-06   \n",
       "  45  QO AGR ARE 663637   AYRES BRITTO (PRESIDENTE)  1.104003e-06   \n",
       "  46          HC 109956               MARCO AURÉLIO  9.913965e-07   \n",
       "  47      AGR AI 541696               MARCO AURÉLIO  9.215003e-07   \n",
       "  53    AGR ARE 1014460                    LUIZ FUX  8.168920e-07   \n",
       "  55      AGR RE 369696                   EROS GRAU  8.026775e-07   \n",
       "  56     AGR ARE 966597               GILMAR MENDES  7.951034e-07   \n",
       "  57      AGR AI 436911          SEPÚLVEDA PERTENCE  7.879480e-07   \n",
       "  59      AGR RE 154158              CARLOS VELLOSO  7.789913e-07   \n",
       "  61      AGR RE 327143              CARLOS VELLOSO  7.600910e-07   \n",
       "  65      AGR AI 643654                CÁRMEN LÚCIA  7.250798e-07   \n",
       "  66          HC 118189         RICARDO LEWANDOWSKI  7.193068e-07   \n",
       "  69      AGR AI 454352               CARLOS BRITTO  7.058529e-07   \n",
       "  70     AGR ARE 955842                DIAS TOFFOLI  7.012028e-07   \n",
       "  73      AGR RE 433818          SEPÚLVEDA PERTENCE  6.896452e-07   \n",
       "  74     AGR ARE 672188   AYRES BRITTO (Presidente)  6.846285e-07   \n",
       "  75             MI 721               MARCO AURÉLIO  6.795177e-07   \n",
       "  81    AGR ARE 1005678   CÁRMEN LÚCIA (Presidente)  6.441583e-07   \n",
       "  83      AGR RE 411859               GILMAR MENDES  6.327457e-07   \n",
       "  84     AGR ARE 721783               MARCO AURÉLIO  6.271804e-07   \n",
       "  87          RE 258980                ILMAR GALVÃO  6.110862e-07   \n",
       "  90       AGR RCL 5684         RICARDO LEWANDOWSKI  6.065154e-07   \n",
       "  92      AGR AI 745285                DIAS TOFFOLI  6.012417e-07   \n",
       "  93      AGR AI 380813               MOREIRA ALVES  5.919214e-07   \n",
       "  95      AGR AI 437201                ELLEN GRACIE  5.816351e-07   \n",
       "  86      AGR AI 436010              CARLOS VELLOSO  4.707564e-07   \n",
       "  \n",
       "      collection_iter  \n",
       "  2                 1  \n",
       "  3                 1  \n",
       "  4                 1  \n",
       "  5                 1  \n",
       "  6                 1  \n",
       "  7                 1  \n",
       "  8                 1  \n",
       "  9                 1  \n",
       "  10                1  \n",
       "  11                1  \n",
       "  12                1  \n",
       "  13                1  \n",
       "  14                1  \n",
       "  15                1  \n",
       "  16                1  \n",
       "  17                1  \n",
       "  18                1  \n",
       "  19                1  \n",
       "  20                1  \n",
       "  21                1  \n",
       "  22                1  \n",
       "  23                1  \n",
       "  24                1  \n",
       "  25                1  \n",
       "  26                1  \n",
       "  27                1  \n",
       "  28                1  \n",
       "  32                1  \n",
       "  33                1  \n",
       "  34                1  \n",
       "  35                1  \n",
       "  36                1  \n",
       "  39                1  \n",
       "  43                1  \n",
       "  45                1  \n",
       "  46                1  \n",
       "  47                1  \n",
       "  53                1  \n",
       "  55                1  \n",
       "  56                1  \n",
       "  57                1  \n",
       "  59                1  \n",
       "  61                1  \n",
       "  65                1  \n",
       "  66                1  \n",
       "  69                1  \n",
       "  70                1  \n",
       "  73                1  \n",
       "  74                1  \n",
       "  75                1  \n",
       "  81                1  \n",
       "  83                1  \n",
       "  84                1  \n",
       "  87                1  \n",
       "  90                1  \n",
       "  92                1  \n",
       "  93                1  \n",
       "  95                1  \n",
       "  86                2  ]]"
      ]
     },
     "execution_count": 19,
     "metadata": {},
     "output_type": "execute_result"
    }
   ],
   "source": [
    "df_robustness_lst"
   ]
  },
  {
   "cell_type": "code",
   "execution_count": 33,
   "metadata": {},
   "outputs": [],
   "source": [
    "df_all_decs_robustness_table = create_dataframe_from_list_of_list_sizes(\n",
    "    df_robustness_lst, [1, 2], [10, 20, 30]\n",
    ")\n",
    "df_no_similars_robustness_table = create_dataframe_from_list_of_list_sizes(\n",
    "    df_robustness_no_similars_lst, [1, 2], [10]\n",
    ")\n",
    "df_magistrates_robustness_table = create_dataframe_from_list_of_list_sizes(\n",
    "    df_robustness_magistrates_lst, [1, 2], top_10_magistrates\n",
    ")"
   ]
  },
  {
   "cell_type": "markdown",
   "metadata": {},
   "source": [
    "### Comparison between PR1 and P2 Pagerank models results for all decisions WITH similars"
   ]
  },
  {
   "cell_type": "code",
   "execution_count": 50,
   "metadata": {},
   "outputs": [
    {
     "data": {
      "text/html": [
       "<div>\n",
       "<style scoped>\n",
       "    .dataframe tbody tr th:only-of-type {\n",
       "        vertical-align: middle;\n",
       "    }\n",
       "\n",
       "    .dataframe tbody tr th {\n",
       "        vertical-align: top;\n",
       "    }\n",
       "\n",
       "    .dataframe thead th {\n",
       "        text-align: right;\n",
       "    }\n",
       "</style>\n",
       "<table border=\"1\" class=\"dataframe\">\n",
       "  <thead>\n",
       "    <tr style=\"text-align: right;\">\n",
       "      <th></th>\n",
       "      <th>PR1</th>\n",
       "      <th>PR2</th>\n",
       "    </tr>\n",
       "    <tr>\n",
       "      <th>Perturbance level (%)</th>\n",
       "      <th></th>\n",
       "      <th></th>\n",
       "    </tr>\n",
       "  </thead>\n",
       "  <tbody>\n",
       "    <tr>\n",
       "      <th>10</th>\n",
       "      <td>76</td>\n",
       "      <td>93</td>\n",
       "    </tr>\n",
       "    <tr>\n",
       "      <th>20</th>\n",
       "      <td>31</td>\n",
       "      <td>25</td>\n",
       "    </tr>\n",
       "    <tr>\n",
       "      <th>30</th>\n",
       "      <td>19</td>\n",
       "      <td>59</td>\n",
       "    </tr>\n",
       "  </tbody>\n",
       "</table>\n",
       "</div>"
      ],
      "text/plain": [
       "                       PR1  PR2\n",
       "Perturbance level (%)          \n",
       "10                      76   93\n",
       "20                      31   25\n",
       "30                      19   59"
      ]
     },
     "execution_count": 50,
     "metadata": {},
     "output_type": "execute_result"
    }
   ],
   "source": [
    "df_all_decs_robustness_table.columns = [\"PR1\", \"PR2\"]\n",
    "df_all_decs_robustness_table.index.name = \"Perturbance level (%)\"\n",
    "df_all_decs_robustness_table"
   ]
  },
  {
   "cell_type": "markdown",
   "metadata": {},
   "source": [
    "### Comparison between PR1 and P2 Pagerank models results for all decisions WITHOUT similars"
   ]
  },
  {
   "cell_type": "code",
   "execution_count": 53,
   "metadata": {},
   "outputs": [
    {
     "data": {
      "text/html": [
       "<div>\n",
       "<style scoped>\n",
       "    .dataframe tbody tr th:only-of-type {\n",
       "        vertical-align: middle;\n",
       "    }\n",
       "\n",
       "    .dataframe tbody tr th {\n",
       "        vertical-align: top;\n",
       "    }\n",
       "\n",
       "    .dataframe thead th {\n",
       "        text-align: right;\n",
       "    }\n",
       "</style>\n",
       "<table border=\"1\" class=\"dataframe\">\n",
       "  <thead>\n",
       "    <tr style=\"text-align: right;\">\n",
       "      <th></th>\n",
       "      <th>PR1</th>\n",
       "      <th>PR2</th>\n",
       "    </tr>\n",
       "    <tr>\n",
       "      <th>Perturbance level (%)</th>\n",
       "      <th></th>\n",
       "      <th></th>\n",
       "    </tr>\n",
       "  </thead>\n",
       "  <tbody>\n",
       "    <tr>\n",
       "      <th>10</th>\n",
       "      <td>85</td>\n",
       "      <td>57</td>\n",
       "    </tr>\n",
       "  </tbody>\n",
       "</table>\n",
       "</div>"
      ],
      "text/plain": [
       "                       PR1  PR2\n",
       "Perturbance level (%)          \n",
       "10                      85   57"
      ]
     },
     "execution_count": 53,
     "metadata": {},
     "output_type": "execute_result"
    }
   ],
   "source": [
    "df_no_similars_robustness_table.columns = [\"PR1\", \"PR2\"]\n",
    "df_no_similars_robustness_table.index.name = \"Perturbance level (%)\"\n",
    "df_no_similars_robustness_table"
   ]
  },
  {
   "cell_type": "markdown",
   "metadata": {},
   "source": [
    "### Comparison between PR1 and P2 Pagerank models results for top 10 magistrates (10% disturbance level) decisions with similar decisions"
   ]
  },
  {
   "cell_type": "code",
   "execution_count": 46,
   "metadata": {},
   "outputs": [
    {
     "data": {
      "text/html": [
       "<div>\n",
       "<style scoped>\n",
       "    .dataframe tbody tr th:only-of-type {\n",
       "        vertical-align: middle;\n",
       "    }\n",
       "\n",
       "    .dataframe tbody tr th {\n",
       "        vertical-align: top;\n",
       "    }\n",
       "\n",
       "    .dataframe thead th {\n",
       "        text-align: right;\n",
       "    }\n",
       "</style>\n",
       "<table border=\"1\" class=\"dataframe\">\n",
       "  <thead>\n",
       "    <tr style=\"text-align: right;\">\n",
       "      <th></th>\n",
       "      <th>PR1</th>\n",
       "      <th>PR2</th>\n",
       "    </tr>\n",
       "    <tr>\n",
       "      <th>Magistrate</th>\n",
       "      <th></th>\n",
       "      <th></th>\n",
       "    </tr>\n",
       "  </thead>\n",
       "  <tbody>\n",
       "    <tr>\n",
       "      <th>MARCO AURÉLIO</th>\n",
       "      <td>82</td>\n",
       "      <td>82</td>\n",
       "    </tr>\n",
       "    <tr>\n",
       "      <th>CÁRMEN LÚCIA</th>\n",
       "      <td>78</td>\n",
       "      <td>72</td>\n",
       "    </tr>\n",
       "    <tr>\n",
       "      <th>GILMAR MENDES</th>\n",
       "      <td>80</td>\n",
       "      <td>99</td>\n",
       "    </tr>\n",
       "    <tr>\n",
       "      <th>RICARDO LEWANDOWSKI</th>\n",
       "      <td>74</td>\n",
       "      <td>80</td>\n",
       "    </tr>\n",
       "    <tr>\n",
       "      <th>DIAS TOFFOLI</th>\n",
       "      <td>83</td>\n",
       "      <td>91</td>\n",
       "    </tr>\n",
       "    <tr>\n",
       "      <th>LUIZ FUX</th>\n",
       "      <td>78</td>\n",
       "      <td>83</td>\n",
       "    </tr>\n",
       "    <tr>\n",
       "      <th>ROSA WEBER</th>\n",
       "      <td>85</td>\n",
       "      <td>81</td>\n",
       "    </tr>\n",
       "    <tr>\n",
       "      <th>ROBERTO BARROSO</th>\n",
       "      <td>87</td>\n",
       "      <td>88</td>\n",
       "    </tr>\n",
       "    <tr>\n",
       "      <th>CELSO DE MELLO</th>\n",
       "      <td>93</td>\n",
       "      <td>82</td>\n",
       "    </tr>\n",
       "    <tr>\n",
       "      <th>ELLEN GRACIE</th>\n",
       "      <td>86</td>\n",
       "      <td>84</td>\n",
       "    </tr>\n",
       "  </tbody>\n",
       "</table>\n",
       "</div>"
      ],
      "text/plain": [
       "                     PR1  PR2\n",
       "Magistrate                   \n",
       "MARCO AURÉLIO         82   82\n",
       "CÁRMEN LÚCIA          78   72\n",
       "GILMAR MENDES         80   99\n",
       "RICARDO LEWANDOWSKI   74   80\n",
       "DIAS TOFFOLI          83   91\n",
       "LUIZ FUX              78   83\n",
       "ROSA WEBER            85   81\n",
       "ROBERTO BARROSO       87   88\n",
       "CELSO DE MELLO        93   82\n",
       "ELLEN GRACIE          86   84"
      ]
     },
     "execution_count": 46,
     "metadata": {},
     "output_type": "execute_result"
    }
   ],
   "source": [
    "df_magistrates_robustness_table.columns = [\"PR1\", \"PR2\"]\n",
    "df_magistrates_robustness_table.index.name = \"Magistrate\"\n",
    "df_magistrates_robustness_table"
   ]
  },
  {
   "cell_type": "markdown",
   "metadata": {},
   "source": [
    "### Building robustness table for intersection of decisions between PageRank top 100 measure for decisions with similar vs decisions without similar decisions"
   ]
  },
  {
   "cell_type": "code",
   "execution_count": 34,
   "metadata": {},
   "outputs": [],
   "source": [
    "pr_models = [1, 2]\n",
    "df_robustness_decs_with_similars_vs_without_similars_lst = []\n",
    "for i, pr_model in enumerate(pr_models):\n",
    "    df_robustness_decs_with_similars_vs_without_similars_lst.append(\n",
    "        get_intersection_decisions(\n",
    "            df_robustness_lst[0][i], df_robustness_no_similars_lst[0][i]\n",
    "        )\n",
    "    )\n",
    "\n",
    "df_decs_with_similars_vs_without_similars_robustness_table = create_dataframe_from_list_of_list_sizes(\n",
    "    [df_robustness_decs_with_similars_vs_without_similars_lst], [1, 2], [10]\n",
    ")"
   ]
  },
  {
   "cell_type": "code",
   "execution_count": 79,
   "metadata": {},
   "outputs": [
    {
     "data": {
      "text/html": [
       "<div>\n",
       "<style scoped>\n",
       "    .dataframe tbody tr th:only-of-type {\n",
       "        vertical-align: middle;\n",
       "    }\n",
       "\n",
       "    .dataframe tbody tr th {\n",
       "        vertical-align: top;\n",
       "    }\n",
       "\n",
       "    .dataframe thead th {\n",
       "        text-align: right;\n",
       "    }\n",
       "</style>\n",
       "<table border=\"1\" class=\"dataframe\">\n",
       "  <thead>\n",
       "    <tr style=\"text-align: right;\">\n",
       "      <th></th>\n",
       "      <th>PR1</th>\n",
       "      <th>PR2</th>\n",
       "    </tr>\n",
       "    <tr>\n",
       "      <th>Perturbance level (%)</th>\n",
       "      <th></th>\n",
       "      <th></th>\n",
       "    </tr>\n",
       "  </thead>\n",
       "  <tbody>\n",
       "    <tr>\n",
       "      <th>10</th>\n",
       "      <td>29</td>\n",
       "      <td>2</td>\n",
       "    </tr>\n",
       "  </tbody>\n",
       "</table>\n",
       "</div>"
      ],
      "text/plain": [
       "                       PR1  PR2\n",
       "Perturbance level (%)          \n",
       "10                      29    2"
      ]
     },
     "execution_count": 79,
     "metadata": {},
     "output_type": "execute_result"
    }
   ],
   "source": [
    "df_decs_with_similars_vs_without_similars_robustness_table.columns = [\"PR1\", \"PR2\"]\n",
    "df_decs_with_similars_vs_without_similars_robustness_table.index.name = \"Perturbance level (%)\"\n",
    "df_decs_with_similars_vs_without_similars_robustness_table"
   ]
  },
  {
   "cell_type": "markdown",
   "metadata": {},
   "source": [
    "### Building robustness tables for intersections of top 100 decisions measures between both pageRank models for all decisions, for top 10 magistrates, and without similar decisions"
   ]
  },
  {
   "cell_type": "code",
   "execution_count": 35,
   "metadata": {},
   "outputs": [],
   "source": [
    "df_all_decs_intersection_table = create_dataframe_from_list_sizes(\n",
    "    df_robustness_intersect_all_decs_lst, [\"Intersect\"], [10, 20, 30]\n",
    ")\n",
    "df_no_similars_intersect_table = create_dataframe_from_list_sizes(\n",
    "    df_robustness_intersect_no_similars_lst, [\"Intersect\"], [10]\n",
    ")\n",
    "df_magistrates_intersection_table = create_dataframe_from_list_sizes(\n",
    "    df_robustness_intersect_magistrates_lst,\n",
    "    [\"Intersect\"],\n",
    "    top_10_magistrates,\n",
    ")"
   ]
  },
  {
   "cell_type": "markdown",
   "metadata": {},
   "source": [
    "### Intersection of decisions between PageRank 1 and 2 models results for decisions WITH similars"
   ]
  },
  {
   "cell_type": "code",
   "execution_count": 52,
   "metadata": {},
   "outputs": [
    {
     "data": {
      "text/html": [
       "<div>\n",
       "<style scoped>\n",
       "    .dataframe tbody tr th:only-of-type {\n",
       "        vertical-align: middle;\n",
       "    }\n",
       "\n",
       "    .dataframe tbody tr th {\n",
       "        vertical-align: top;\n",
       "    }\n",
       "\n",
       "    .dataframe thead th {\n",
       "        text-align: right;\n",
       "    }\n",
       "</style>\n",
       "<table border=\"1\" class=\"dataframe\">\n",
       "  <thead>\n",
       "    <tr style=\"text-align: right;\">\n",
       "      <th></th>\n",
       "      <th>Intersect</th>\n",
       "    </tr>\n",
       "    <tr>\n",
       "      <th>Perturbance level (%)</th>\n",
       "      <th></th>\n",
       "    </tr>\n",
       "  </thead>\n",
       "  <tbody>\n",
       "    <tr>\n",
       "      <th>10</th>\n",
       "      <td>18</td>\n",
       "    </tr>\n",
       "    <tr>\n",
       "      <th>20</th>\n",
       "      <td>8</td>\n",
       "    </tr>\n",
       "    <tr>\n",
       "      <th>30</th>\n",
       "      <td>5</td>\n",
       "    </tr>\n",
       "  </tbody>\n",
       "</table>\n",
       "</div>"
      ],
      "text/plain": [
       "                       Intersect\n",
       "Perturbance level (%)           \n",
       "10                            18\n",
       "20                             8\n",
       "30                             5"
      ]
     },
     "execution_count": 52,
     "metadata": {},
     "output_type": "execute_result"
    }
   ],
   "source": [
    "df_all_decs_intersection_table.index.name = \"Perturbance level (%)\"\n",
    "df_all_decs_intersection_table"
   ]
  },
  {
   "cell_type": "markdown",
   "metadata": {},
   "source": [
    "### Intersection of decisions between PageRank 1 and 2 models results for decisions WITHOUT similars"
   ]
  },
  {
   "cell_type": "code",
   "execution_count": 54,
   "metadata": {},
   "outputs": [
    {
     "data": {
      "text/html": [
       "<div>\n",
       "<style scoped>\n",
       "    .dataframe tbody tr th:only-of-type {\n",
       "        vertical-align: middle;\n",
       "    }\n",
       "\n",
       "    .dataframe tbody tr th {\n",
       "        vertical-align: top;\n",
       "    }\n",
       "\n",
       "    .dataframe thead th {\n",
       "        text-align: right;\n",
       "    }\n",
       "</style>\n",
       "<table border=\"1\" class=\"dataframe\">\n",
       "  <thead>\n",
       "    <tr style=\"text-align: right;\">\n",
       "      <th></th>\n",
       "      <th>Intersect</th>\n",
       "    </tr>\n",
       "    <tr>\n",
       "      <th>Perturbance level (%)</th>\n",
       "      <th></th>\n",
       "    </tr>\n",
       "  </thead>\n",
       "  <tbody>\n",
       "    <tr>\n",
       "      <th>10</th>\n",
       "      <td>10</td>\n",
       "    </tr>\n",
       "  </tbody>\n",
       "</table>\n",
       "</div>"
      ],
      "text/plain": [
       "                       Intersect\n",
       "Perturbance level (%)           \n",
       "10                            10"
      ]
     },
     "execution_count": 54,
     "metadata": {},
     "output_type": "execute_result"
    }
   ],
   "source": [
    "df_no_similars_intersect_table.index.name = \"Perturbance level (%)\"\n",
    "df_no_similars_intersect_table"
   ]
  },
  {
   "cell_type": "markdown",
   "metadata": {},
   "source": [
    "### Chi-square test to compare similarity between PageRank models results 1 and 2"
   ]
  },
  {
   "cell_type": "markdown",
   "metadata": {},
   "source": [
    "### Comparison between PageRank models results for all decisions with similars"
   ]
  },
  {
   "cell_type": "code",
   "execution_count": 55,
   "metadata": {},
   "outputs": [
    {
     "name": "stdout",
     "output_type": "stream",
     "text": [
      "14.697980364712992 0.0006432415892048291 2 [[70.27722772 98.72277228]\n",
      " [23.28712871 32.71287129]\n",
      " [32.43564356 45.56435644]]\n"
     ]
    }
   ],
   "source": [
    "calc_qui_square_test(df_all_decs_robustness_table)"
   ]
  },
  {
   "cell_type": "markdown",
   "metadata": {},
   "source": [
    "**Chi squared statistic: 14.69**  \n",
    "**p-value: 0.0006**"
   ]
  },
  {
   "cell_type": "markdown",
   "metadata": {},
   "source": [
    "### Comparison between PageRank models results for all magistrates"
   ]
  },
  {
   "cell_type": "code",
   "execution_count": 56,
   "metadata": {},
   "outputs": [
    {
     "name": "stdout",
     "output_type": "stream",
     "text": [
      "3.6775405787273248 0.9313266934796394 9 [[81.21342926 82.78657074]\n",
      " [74.28057554 75.71942446]\n",
      " [88.64148681 90.35851319]\n",
      " [76.26139089 77.73860911]\n",
      " [86.16546763 87.83453237]\n",
      " [79.72781775 81.27218225]\n",
      " [82.20383693 83.79616307]\n",
      " [86.66067146 88.33932854]\n",
      " [86.66067146 88.33932854]\n",
      " [84.18465228 85.81534772]]\n"
     ]
    }
   ],
   "source": [
    "calc_qui_square_test(df_magistrates_robustness_table)"
   ]
  },
  {
   "cell_type": "markdown",
   "metadata": {},
   "source": [
    "**Chi squared statistic: 3.67**  \n",
    "**p-value: 0.9313**"
   ]
  },
  {
   "cell_type": "markdown",
   "metadata": {},
   "source": [
    "### Getting intersection of decisions between both PageRank models for iteration 1 for all measures (all decisions, top 10 magistrates, and without similar decisions)"
   ]
  },
  {
   "cell_type": "code",
   "execution_count": 36,
   "metadata": {},
   "outputs": [
    {
     "name": "stderr",
     "output_type": "stream",
     "text": [
      "/home/jackson/.local/share/virtualenvs/analise-juridica-SICVn6Yg/lib/python3.6/site-packages/pandas/core/frame.py:3997: SettingWithCopyWarning: \n",
      "A value is trying to be set on a copy of a slice from a DataFrame\n",
      "\n",
      "See the caveats in the documentation: https://pandas.pydata.org/pandas-docs/stable/user_guide/indexing.html#returning-a-view-versus-a-copy\n",
      "  errors=errors,\n"
     ]
    }
   ],
   "source": [
    "df_intersec_with_sim_dec_lst = get_intersection_decisions_first_iter_tabulated(\n",
    "    df_all_decs_lst\n",
    ")\n",
    "df_intersec_without_sim_dec_lst = get_intersection_decisions_first_iter_tabulated(\n",
    "    df_all_decs_no_similars_lst\n",
    ")\n",
    "df_intersec_magistrates_lst = get_intersection_decisions_first_iter_tabulated(\n",
    "    df_magistrates_decs_lst\n",
    ")"
   ]
  },
  {
   "cell_type": "markdown",
   "metadata": {},
   "source": [
    "### Getting intersection of decisions between both PageRank models for iteration 1 for decisions with similar vs decisions without similar decisions"
   ]
  },
  {
   "cell_type": "code",
   "execution_count": 37,
   "metadata": {},
   "outputs": [],
   "source": [
    "df_intersec_between_with_and_without_sim_pr1 = get_intersection_decisions_first_iter_tabulated(\n",
    "    [[df_all_decs_lst[0][0], df_all_decs_no_similars_lst[0][0]]]\n",
    ")\n",
    "df_intersec_between_with_and_without_sim_pr2 = get_intersection_decisions_first_iter_tabulated(\n",
    "    [[df_all_decs_lst[0][1], df_all_decs_no_similars_lst[0][1]]]\n",
    ")"
   ]
  },
  {
   "cell_type": "markdown",
   "metadata": {},
   "source": [
    "### Building robustness tables for intersections of top 100 decisions measures between both pageRank models for all decisions, for top 10 magistrates, and without similar decisions IN THE FIRST ITERATION"
   ]
  },
  {
   "cell_type": "code",
   "execution_count": 38,
   "metadata": {},
   "outputs": [],
   "source": [
    "df_intersec_with_sim_dec_table = create_dataframe_from_list_sizes(\n",
    "    df_intersec_with_sim_dec_lst, [\"Intersect\"], [10, 20, 30]\n",
    ")\n",
    "df_intersec_without_sim_dec_table = create_dataframe_from_list_sizes(\n",
    "    df_intersec_without_sim_dec_lst, [\"Intersect\"], [10]\n",
    ")\n",
    "df_intersec_magistrates_table = create_dataframe_from_list_sizes(\n",
    "    df_intersec_magistrates_lst, [\"Intersect\"], top_10_magistrates\n",
    ")"
   ]
  },
  {
   "cell_type": "markdown",
   "metadata": {},
   "source": [
    "### Comparison between PR1 and P2 Pagerank models results for all decisions WITH similars IN THE FIRST ITERATION"
   ]
  },
  {
   "cell_type": "code",
   "execution_count": 58,
   "metadata": {},
   "outputs": [
    {
     "data": {
      "text/html": [
       "<div>\n",
       "<style scoped>\n",
       "    .dataframe tbody tr th:only-of-type {\n",
       "        vertical-align: middle;\n",
       "    }\n",
       "\n",
       "    .dataframe tbody tr th {\n",
       "        vertical-align: top;\n",
       "    }\n",
       "\n",
       "    .dataframe thead th {\n",
       "        text-align: right;\n",
       "    }\n",
       "</style>\n",
       "<table border=\"1\" class=\"dataframe\">\n",
       "  <thead>\n",
       "    <tr style=\"text-align: right;\">\n",
       "      <th></th>\n",
       "      <th>Intersect</th>\n",
       "    </tr>\n",
       "    <tr>\n",
       "      <th>Perturbance level (%)</th>\n",
       "      <th></th>\n",
       "    </tr>\n",
       "  </thead>\n",
       "  <tbody>\n",
       "    <tr>\n",
       "      <th>10</th>\n",
       "      <td>21</td>\n",
       "    </tr>\n",
       "    <tr>\n",
       "      <th>20</th>\n",
       "      <td>21</td>\n",
       "    </tr>\n",
       "    <tr>\n",
       "      <th>30</th>\n",
       "      <td>21</td>\n",
       "    </tr>\n",
       "  </tbody>\n",
       "</table>\n",
       "</div>"
      ],
      "text/plain": [
       "                       Intersect\n",
       "Perturbance level (%)           \n",
       "10                            21\n",
       "20                            21\n",
       "30                            21"
      ]
     },
     "execution_count": 58,
     "metadata": {},
     "output_type": "execute_result"
    }
   ],
   "source": [
    "df_intersec_with_sim_dec_table.index.name = \"Perturbance level (%)\"\n",
    "df_intersec_with_sim_dec_table"
   ]
  },
  {
   "cell_type": "markdown",
   "metadata": {},
   "source": [
    "### Comparison between PR1 and P2 Pagerank models results for all decisions WITHOUT similars IN THE FIRST ITERATION"
   ]
  },
  {
   "cell_type": "code",
   "execution_count": 60,
   "metadata": {},
   "outputs": [
    {
     "data": {
      "text/html": [
       "<div>\n",
       "<style scoped>\n",
       "    .dataframe tbody tr th:only-of-type {\n",
       "        vertical-align: middle;\n",
       "    }\n",
       "\n",
       "    .dataframe tbody tr th {\n",
       "        vertical-align: top;\n",
       "    }\n",
       "\n",
       "    .dataframe thead th {\n",
       "        text-align: right;\n",
       "    }\n",
       "</style>\n",
       "<table border=\"1\" class=\"dataframe\">\n",
       "  <thead>\n",
       "    <tr style=\"text-align: right;\">\n",
       "      <th></th>\n",
       "      <th>Intersect</th>\n",
       "    </tr>\n",
       "    <tr>\n",
       "      <th>Perturbance level (%)</th>\n",
       "      <th></th>\n",
       "    </tr>\n",
       "  </thead>\n",
       "  <tbody>\n",
       "    <tr>\n",
       "      <th>10</th>\n",
       "      <td>21</td>\n",
       "    </tr>\n",
       "  </tbody>\n",
       "</table>\n",
       "</div>"
      ],
      "text/plain": [
       "                       Intersect\n",
       "Perturbance level (%)           \n",
       "10                            21"
      ]
     },
     "execution_count": 60,
     "metadata": {},
     "output_type": "execute_result"
    }
   ],
   "source": [
    "df_intersec_without_sim_dec_table.index.name = \"Perturbance level (%)\"\n",
    "df_intersec_without_sim_dec_table"
   ]
  },
  {
   "cell_type": "markdown",
   "metadata": {},
   "source": [
    "### Comparison between PR1 and P2 Pagerank models results for top 10 magistrates (10% disturbance level) WITH similars IN THE FIRST ITERATION"
   ]
  },
  {
   "cell_type": "code",
   "execution_count": 62,
   "metadata": {},
   "outputs": [
    {
     "data": {
      "text/html": [
       "<div>\n",
       "<style scoped>\n",
       "    .dataframe tbody tr th:only-of-type {\n",
       "        vertical-align: middle;\n",
       "    }\n",
       "\n",
       "    .dataframe tbody tr th {\n",
       "        vertical-align: top;\n",
       "    }\n",
       "\n",
       "    .dataframe thead th {\n",
       "        text-align: right;\n",
       "    }\n",
       "</style>\n",
       "<table border=\"1\" class=\"dataframe\">\n",
       "  <thead>\n",
       "    <tr style=\"text-align: right;\">\n",
       "      <th></th>\n",
       "      <th>Intersect</th>\n",
       "    </tr>\n",
       "    <tr>\n",
       "      <th>Magistrates</th>\n",
       "      <th></th>\n",
       "    </tr>\n",
       "  </thead>\n",
       "  <tbody>\n",
       "    <tr>\n",
       "      <th>MARCO AURÉLIO</th>\n",
       "      <td>80</td>\n",
       "    </tr>\n",
       "    <tr>\n",
       "      <th>CÁRMEN LÚCIA</th>\n",
       "      <td>81</td>\n",
       "    </tr>\n",
       "    <tr>\n",
       "      <th>GILMAR MENDES</th>\n",
       "      <td>80</td>\n",
       "    </tr>\n",
       "    <tr>\n",
       "      <th>RICARDO LEWANDOWSKI</th>\n",
       "      <td>79</td>\n",
       "    </tr>\n",
       "    <tr>\n",
       "      <th>DIAS TOFFOLI</th>\n",
       "      <td>82</td>\n",
       "    </tr>\n",
       "    <tr>\n",
       "      <th>LUIZ FUX</th>\n",
       "      <td>77</td>\n",
       "    </tr>\n",
       "    <tr>\n",
       "      <th>ROSA WEBER</th>\n",
       "      <td>90</td>\n",
       "    </tr>\n",
       "    <tr>\n",
       "      <th>ROBERTO BARROSO</th>\n",
       "      <td>86</td>\n",
       "    </tr>\n",
       "    <tr>\n",
       "      <th>CELSO DE MELLO</th>\n",
       "      <td>70</td>\n",
       "    </tr>\n",
       "    <tr>\n",
       "      <th>ELLEN GRACIE</th>\n",
       "      <td>89</td>\n",
       "    </tr>\n",
       "  </tbody>\n",
       "</table>\n",
       "</div>"
      ],
      "text/plain": [
       "                     Intersect\n",
       "Magistrates                   \n",
       "MARCO AURÉLIO               80\n",
       "CÁRMEN LÚCIA                81\n",
       "GILMAR MENDES               80\n",
       "RICARDO LEWANDOWSKI         79\n",
       "DIAS TOFFOLI                82\n",
       "LUIZ FUX                    77\n",
       "ROSA WEBER                  90\n",
       "ROBERTO BARROSO             86\n",
       "CELSO DE MELLO              70\n",
       "ELLEN GRACIE                89"
      ]
     },
     "execution_count": 62,
     "metadata": {},
     "output_type": "execute_result"
    }
   ],
   "source": [
    "df_intersec_magistrates_table.index.name = \"Magistrates\"\n",
    "df_intersec_magistrates_table"
   ]
  },
  {
   "cell_type": "markdown",
   "metadata": {},
   "source": [
    "### Building robustness table for intersection of decisions between PageRank top 100 measure for decisions with similar vs decisions without similar decisions IN THE FIRST ITERATION"
   ]
  },
  {
   "cell_type": "code",
   "execution_count": 39,
   "metadata": {},
   "outputs": [],
   "source": [
    "df_intersec_between_with_and_without_sim_pr1_table = create_dataframe_from_list_sizes(\n",
    "    df_intersec_between_with_and_without_sim_pr1, [\"Intersect\"], [1]\n",
    ")\n",
    "df_intersec_between_with_and_without_sim_pr2_table = create_dataframe_from_list_sizes(\n",
    "    df_intersec_between_with_and_without_sim_pr2, [\"Intersect\"], [2]\n",
    ")"
   ]
  },
  {
   "cell_type": "code",
   "execution_count": 82,
   "metadata": {},
   "outputs": [
    {
     "data": {
      "text/plain": [
       "(   Intersect\n",
       " 1         47,\n",
       "    Intersect\n",
       " 2         13)"
      ]
     },
     "execution_count": 82,
     "metadata": {},
     "output_type": "execute_result"
    }
   ],
   "source": [
    "df_intersec_between_with_and_without_sim_pr1_table, df_intersec_between_with_and_without_sim_pr2_table"
   ]
  },
  {
   "cell_type": "markdown",
   "metadata": {},
   "source": [
    "first iteration  \n",
    "      PR1     |     PR2  \n",
    "      47      |     13  \n",
    "      \n",
    "      \n",
    "all iterations  \n",
    "      PR1     |      PR2  \n",
    "      29      |       2"
   ]
  },
  {
   "cell_type": "markdown",
   "metadata": {},
   "source": [
    "### Getting magistrates absent from top 100 ranking measures considering similar decisions and not considering them"
   ]
  },
  {
   "cell_type": "code",
   "execution_count": 40,
   "metadata": {},
   "outputs": [],
   "source": [
    "absent_magistrates_lst = get_absent_magistrates(df_robustness_lst, top_10_magistrates)\n",
    "absent_magistrates_no_similars_lst = get_absent_magistrates(df_robustness_no_similars_lst, top_10_magistrates)"
   ]
  },
  {
   "cell_type": "markdown",
   "metadata": {},
   "source": [
    "### Absent magistrates from top 100 decisions in each PageRank experiment for decisions WITH similars"
   ]
  },
  {
   "cell_type": "code",
   "execution_count": 73,
   "metadata": {},
   "outputs": [
    {
     "data": {
      "text/html": [
       "<div>\n",
       "<style scoped>\n",
       "    .dataframe tbody tr th:only-of-type {\n",
       "        vertical-align: middle;\n",
       "    }\n",
       "\n",
       "    .dataframe tbody tr th {\n",
       "        vertical-align: top;\n",
       "    }\n",
       "\n",
       "    .dataframe thead th {\n",
       "        text-align: right;\n",
       "    }\n",
       "</style>\n",
       "<table border=\"1\" class=\"dataframe\">\n",
       "  <thead>\n",
       "    <tr style=\"text-align: right;\">\n",
       "      <th></th>\n",
       "      <th>PR1</th>\n",
       "      <th>PR2</th>\n",
       "    </tr>\n",
       "    <tr>\n",
       "      <th>Perturbance level (%)</th>\n",
       "      <th></th>\n",
       "      <th></th>\n",
       "    </tr>\n",
       "  </thead>\n",
       "  <tbody>\n",
       "    <tr>\n",
       "      <th>10</th>\n",
       "      <td>[DIAS TOFFOLI, LUIZ FUX, ROSA WEBER]</td>\n",
       "      <td>[ROBERTO BARROSO]</td>\n",
       "    </tr>\n",
       "    <tr>\n",
       "      <th>20</th>\n",
       "      <td>[CÁRMEN LÚCIA, DIAS TOFFOLI, ROSA WEBER, LUIZ FUX, ROBERTO BARROSO]</td>\n",
       "      <td>[DIAS TOFFOLI, LUIZ FUX, ROBERTO BARROSO, RICARDO LEWANDOWSKI]</td>\n",
       "    </tr>\n",
       "    <tr>\n",
       "      <th>30</th>\n",
       "      <td>[CÁRMEN LÚCIA, DIAS TOFFOLI, ROSA WEBER, LUIZ FUX, CELSO DE MELLO, ROBERTO BARROSO]</td>\n",
       "      <td>[CELSO DE MELLO, ROBERTO BARROSO]</td>\n",
       "    </tr>\n",
       "  </tbody>\n",
       "</table>\n",
       "</div>"
      ],
      "text/plain": [
       "                                                                                                       PR1  \\\n",
       "Perturbance level (%)                                                                                        \n",
       "10                                                                    [DIAS TOFFOLI, LUIZ FUX, ROSA WEBER]   \n",
       "20                                     [CÁRMEN LÚCIA, DIAS TOFFOLI, ROSA WEBER, LUIZ FUX, ROBERTO BARROSO]   \n",
       "30                     [CÁRMEN LÚCIA, DIAS TOFFOLI, ROSA WEBER, LUIZ FUX, CELSO DE MELLO, ROBERTO BARROSO]   \n",
       "\n",
       "                                                                                  PR2  \n",
       "Perturbance level (%)                                                                  \n",
       "10                                                                  [ROBERTO BARROSO]  \n",
       "20                     [DIAS TOFFOLI, LUIZ FUX, ROBERTO BARROSO, RICARDO LEWANDOWSKI]  \n",
       "30                                                  [CELSO DE MELLO, ROBERTO BARROSO]  "
      ]
     },
     "execution_count": 73,
     "metadata": {},
     "output_type": "execute_result"
    }
   ],
   "source": [
    "df_absent_magistrates_with_similars = pd.DataFrame(absent_magistrates_lst,\n",
    "                                                   columns=[\"PR1\", \"PR2\"],\n",
    "                                                   index=[10, 20, 30])\n",
    "df_absent_magistrates_with_similars.index.name = \"Perturbance level (%)\"\n",
    "df_absent_magistrates_with_similars"
   ]
  },
  {
   "cell_type": "markdown",
   "metadata": {},
   "source": [
    "### Absent magistrates from top 100 decisions in each PageRank experiment for decisions WITHOUT similars"
   ]
  },
  {
   "cell_type": "code",
   "execution_count": 76,
   "metadata": {},
   "outputs": [
    {
     "data": {
      "text/html": [
       "<div>\n",
       "<style scoped>\n",
       "    .dataframe tbody tr th:only-of-type {\n",
       "        vertical-align: middle;\n",
       "    }\n",
       "\n",
       "    .dataframe tbody tr th {\n",
       "        vertical-align: top;\n",
       "    }\n",
       "\n",
       "    .dataframe thead th {\n",
       "        text-align: right;\n",
       "    }\n",
       "</style>\n",
       "<table border=\"1\" class=\"dataframe\">\n",
       "  <thead>\n",
       "    <tr style=\"text-align: right;\">\n",
       "      <th></th>\n",
       "      <th>PR1</th>\n",
       "      <th>PR2</th>\n",
       "    </tr>\n",
       "    <tr>\n",
       "      <th>Perturbance level (%)</th>\n",
       "      <th></th>\n",
       "      <th></th>\n",
       "    </tr>\n",
       "  </thead>\n",
       "  <tbody>\n",
       "    <tr>\n",
       "      <th>10</th>\n",
       "      <td>[RICARDO LEWANDOWSKI, LUIZ FUX, ROSA WEBER]</td>\n",
       "      <td>[LUIZ FUX, ROBERTO BARROSO, ROSA WEBER]</td>\n",
       "    </tr>\n",
       "  </tbody>\n",
       "</table>\n",
       "</div>"
      ],
      "text/plain": [
       "                                                               PR1  \\\n",
       "Perturbance level (%)                                                \n",
       "10                     [RICARDO LEWANDOWSKI, LUIZ FUX, ROSA WEBER]   \n",
       "\n",
       "                                                           PR2  \n",
       "Perturbance level (%)                                           \n",
       "10                     [LUIZ FUX, ROBERTO BARROSO, ROSA WEBER]  "
      ]
     },
     "execution_count": 76,
     "metadata": {},
     "output_type": "execute_result"
    }
   ],
   "source": [
    "df_absent_magistrates_without_similars = pd.DataFrame(absent_magistrates_no_similars_lst,\n",
    "                                                   columns=[\"PR1\", \"PR2\"],\n",
    "                                                   index=[10])\n",
    "df_absent_magistrates_without_similars.index.name = \"Perturbance level (%)\"\n",
    "df_absent_magistrates_without_similars"
   ]
  },
  {
   "cell_type": "code",
   "execution_count": null,
   "metadata": {},
   "outputs": [],
   "source": []
  },
  {
   "cell_type": "code",
   "execution_count": 41,
   "metadata": {},
   "outputs": [],
   "source": [
    "def plot_robustness_graph(df_perturbances, df_intersect):\n",
    "    \"\"\"\n",
    "    \"\"\"\n",
    "    df = df_perturbances.join(df_intersect)\n",
    "    df[\"Attack level\"] = [\"10%\", \"20%\", \"30%\"]\n",
    "    df = df.rename(columns={1: \"$PR_1$\", 2: \"$PR_2$\", \"Intersect\": \"Intersection of $PR_1$ and $PR_2$\"})\n",
    "    df = df.set_index(\"Attack level\")\n",
    "\n",
    "    sns.set()\n",
    "    ax = sns.lineplot(data=df, linewidth=2.5)\n",
    "    ax.set(xlabel=\"Attack level\", ylabel=\"PageRankTop100\")\n",
    "    fig = ax.get_figure()\n",
    "    fig.savefig(\"PageRankTop100_disturbance.png\")"
   ]
  },
  {
   "cell_type": "code",
   "execution_count": 77,
   "metadata": {},
   "outputs": [
    {
     "data": {
      "image/png": "[encoded data removed]",
      "text/plain": [
       "<Figure size 432x288 with 1 Axes>"
      ]
     },
     "metadata": {},
     "output_type": "display_data"
    }
   ],
   "source": [
    "plot_robustness_graph(df_all_decs_robustness_table, df_all_decs_intersection_table)"
   ]
  },
  {
   "cell_type": "code",
   "execution_count": null,
   "metadata": {},
   "outputs": [],
   "source": []
  },
  {
   "cell_type": "code",
   "execution_count": 24,
   "metadata": {},
   "outputs": [
    {
     "name": "stdout",
     "output_type": "stream",
     "text": [
      "2.4207549283154117 0.11973721446268461 1 [[50.10989011 25.89010989]\n",
      " [ 9.89010989  5.10989011]]\n"
     ]
    }
   ],
   "source": [
    "# Entender que valores são estes (provavelmente primeira lista é p1 e segunda é p2)\n",
    "calc_qui_square_test(pd.DataFrame(np.array([[47, 29], [13, 2]])))"
   ]
  },
  {
   "cell_type": "markdown",
   "metadata": {},
   "source": [
    "**Chi squared statistic: 2.42**  \n",
    "**p-value: 0.1197**"
   ]
  },
  {
   "cell_type": "code",
   "execution_count": 88,
   "metadata": {
    "scrolled": true
   },
   "outputs": [
    {
     "ename": "ModuleNotFoundError",
     "evalue": "No module named 'Acordao'",
     "output_type": "error",
     "traceback": [
      "\u001b[0;31m---------------------------------------------------------------------------\u001b[0m",
      "\u001b[0;31mModuleNotFoundError\u001b[0m                       Traceback (most recent call last)",
      "\u001b[0;32m<ipython-input-88-d00520f35651>\u001b[0m in \u001b[0;36m<module>\u001b[0;34m\u001b[0m\n\u001b[1;32m     10\u001b[0m \u001b[0;32mimport\u001b[0m \u001b[0mmatplotlib\u001b[0m\u001b[0;34m.\u001b[0m\u001b[0mpatches\u001b[0m \u001b[0;32mas\u001b[0m \u001b[0mmpatches\u001b[0m\u001b[0;34m\u001b[0m\u001b[0;34m\u001b[0m\u001b[0m\n\u001b[1;32m     11\u001b[0m \u001b[0;32mfrom\u001b[0m \u001b[0mpymongo\u001b[0m \u001b[0;32mimport\u001b[0m \u001b[0mMongoClient\u001b[0m\u001b[0;34m\u001b[0m\u001b[0;34m\u001b[0m\u001b[0m\n\u001b[0;32m---> 12\u001b[0;31m \u001b[0;32mfrom\u001b[0m \u001b[0mGraphMaker\u001b[0m \u001b[0;32mimport\u001b[0m \u001b[0mGraphMaker\u001b[0m\u001b[0;34m\u001b[0m\u001b[0;34m\u001b[0m\u001b[0m\n\u001b[0m\u001b[1;32m     13\u001b[0m \u001b[0;34m\u001b[0m\u001b[0m\n\u001b[1;32m     14\u001b[0m \u001b[0;34m\u001b[0m\u001b[0m\n",
      "\u001b[0;32m~/analise-juridica/notebooks/GraphMaker.py\u001b[0m in \u001b[0;36m<module>\u001b[0;34m\u001b[0m\n\u001b[1;32m      3\u001b[0m \u001b[0;34m\u001b[0m\u001b[0m\n\u001b[1;32m      4\u001b[0m \u001b[0;32mfrom\u001b[0m \u001b[0mpymongo\u001b[0m \u001b[0;32mimport\u001b[0m \u001b[0mMongoClient\u001b[0m\u001b[0;34m\u001b[0m\u001b[0;34m\u001b[0m\u001b[0m\n\u001b[0;32m----> 5\u001b[0;31m \u001b[0;32mfrom\u001b[0m \u001b[0mAcordao\u001b[0m \u001b[0;32mimport\u001b[0m \u001b[0mAcordao\u001b[0m\u001b[0;34m\u001b[0m\u001b[0;34m\u001b[0m\u001b[0m\n\u001b[0m\u001b[1;32m      6\u001b[0m \u001b[0;32mimport\u001b[0m \u001b[0msys\u001b[0m\u001b[0;34m\u001b[0m\u001b[0;34m\u001b[0m\u001b[0m\n\u001b[1;32m      7\u001b[0m \u001b[0;34m\u001b[0m\u001b[0m\n",
      "\u001b[0;31mModuleNotFoundError\u001b[0m: No module named 'Acordao'"
     ]
    }
   ],
   "source": [
    "#!/usr/bin/env python\n",
    "# -*- coding: utf-8 -*-\n",
    "import os\n",
    "import sys\n",
    "import numpy as np\n",
    "import pandas as pd\n",
    "from scipy import stats\n",
    "import seaborn as sns\n",
    "import matplotlib.pyplot as plt\n",
    "import matplotlib.patches as mpatches\n",
    "from pymongo import MongoClient\n",
    "from GraphMaker import GraphMaker\n",
    "\n",
    "\n",
    "def preprocess_query(query_raw):\n",
    "    query = {}\n",
    "    if query_raw:\n",
    "        queryPairs = query_raw.split(\",\")\n",
    "        if not queryPairs:\n",
    "            queryPairs = query_raw\n",
    "        for pair in queryPairs:\n",
    "            pairSplit = pair.split(\":\")\n",
    "            field = pairSplit[0].strip()\n",
    "            value = pairSplit[1].strip()\n",
    "            query[field] = value\n",
    "    return query\n",
    "\n",
    "\n",
    "def get_decisions_ids(collections, query):\n",
    "    MONGO_URI = os.getenv(\"MONGO_URI\")\n",
    "    MONGO_DATABASE = os.getenv(\"MONGO_DATABASE\")\n",
    "    client = MongoClient(MONGO_URI)\n",
    "    db = client[MONGO_DATABASE]\n",
    "\n",
    "    decisions_ids = []\n",
    "    colls = []\n",
    "    if collections == \"acordaos\":\n",
    "        colls.append(db[\"acordaos\"])\n",
    "    elif collections == \"decisoes_monocraticas\":\n",
    "        colls.append(db[\"decisoes_monocraticas\"])\n",
    "    elif collections == \"decisoes\":\n",
    "        colls.append(db[\"acordaos\"])\n",
    "        colls.append(db[\"decisoes_monocraticas\"])\n",
    "\n",
    "    for coll in colls:\n",
    "        docs = coll.find(query, no_cursor_timeout=True)\n",
    "        for doc in docs:\n",
    "            decisions_ids.append(doc[\"acordaoId\"])\n",
    "            # decisions_ids.append([doc[\"acordaoId\"], doc[\"observacao\"], doc[\"similaresTexto\"]])\n",
    "\n",
    "    return decisions_ids, colls\n",
    "\n",
    "\n",
    "def run_page_rank_iteration(query, collections_name):\n",
    "    decisions_ids, collections = get_decisions_ids(\n",
    "         collections_name, query\n",
    "    )\n",
    "\n",
    "    MONGO_URI = os.getenv(\"MONGO_URI\")\n",
    "    MONGO_DATABASE = os.getenv(\"MONGO_DATABASE\")\n",
    "    collection_out_iter_name = \"_fake_coll\"\n",
    "    graphMaker = GraphMaker(\n",
    "        MONGO_URI,\n",
    "        MONGO_DATABASE,\n",
    "        collections,\n",
    "        collection_out_iter_name,\n",
    "    )\n",
    "\n",
    "    removed_decisions = []\n",
    "    compute_similars = \"S\"\n",
    "    [acordaos, quotes, quotedBy, similars] = graphMaker.buildDicts(\n",
    "        query, removed_decisions, compute_similars\n",
    "    )\n",
    "#     [quotes, quotedBy] = graphMaker.removeInvalidAcordaosFromDicts(\n",
    "#         acordaos, quotes, quotedBy\n",
    "#     )\n",
    "    # faz grafo ficar sem direção\n",
    "    new_quotes = {}\n",
    "    for k, vals in quotes.items():\n",
    "        if k not in new_quotes:\n",
    "            new_quotes[k] = set(vals)\n",
    "        elif k not in new_quotes[v]:\n",
    "            new_quotes[k].update(vals)\n",
    "        for v in vals:\n",
    "            if v not in new_quotes:\n",
    "                new_quotes[v] = set([k])\n",
    "            elif k not in new_quotes[v]:\n",
    "                new_quotes[v].update([k])\n",
    "\n",
    "    return new_quotes\n",
    "\n",
    "\n",
    "def create_papers_graphs(new_quotes):\n",
    "    nodes_degrees = [len(v) for k, v in new_quotes.items()]\n",
    "    df = pd.DataFrame(nodes_degrees, columns=[\"count\"])\n",
    "    df_counts = df[\"count\"].value_counts().reset_index()\n",
    "    df_counts = df_counts.rename(columns={\"index\": \"K\"})\n",
    "    df_counts = df_counts.sort_values(by=['K'])\n",
    "    N = df_counts[\"count\"].sum()\n",
    "    df_counts[\"P(K)\"] = df_counts[\"count\"].apply(lambda x: x/N)\n",
    "    df_counts[\"log P(K)\"] = df_counts[\"P(K)\"].apply(lambda x: np.log(x))\n",
    "    df_counts[\"log K\"] = df_counts[\"K\"].apply(lambda x: np.log(x))\n",
    "    df_counts[\"log P(K) / log K\"] = - df_counts[\"log P(K)\"] / df_counts[\"log K\"]\n",
    "\n",
    "    ax = sns.lmplot(data=df_counts[df_counts[\"K\"] > 0], y=\"log P(K)\", x=\"log K\")\n",
    "    gamma = df_counts[df_counts[\"log K\"] > 0][\"log P(K) / log K\"].mean()\n",
    "    red_patch = mpatches.Patch(label=r\"$\\gamma$: {:.2f}\".format(gamma))\n",
    "    plt.legend(handles=[red_patch])\n",
    "    plt.show()\n",
    "    ax.savefig(\"gamma_value_log.png\")\n",
    "\n",
    "    plt.clf()\n",
    "    plt.cla()\n",
    "    plt.close()\n",
    "\n",
    "    ax = sns.distplot(df_counts[\"K\"], kde=False, norm_hist=True, bins=100)\n",
    "    ax.set(yscale=\"log\")\n",
    "    ax.set(ylim=(0.0001, 0.01))\n",
    "    red_patch = mpatches.Patch(label=r\"Mean: {:.2f}\".format(np.mean(df[df[\"count\"] > 0][\"count\"])))\n",
    "    plt.legend(handles=[red_patch])\n",
    "    plt.show()\n",
    "    ax.figure.savefig(\"graph_node_degrees_hist.png\")\n",
    "\n",
    "\n",
    "query_raw = \"\"\n",
    "query = preprocess_query(query_raw)\n",
    "new_quotes = run_page_rank_iteration(query, \"acordaos\")\n",
    "create_papers_graphs(new_quotes)"
   ]
  },
  {
   "cell_type": "code",
   "execution_count": null,
   "metadata": {},
   "outputs": [],
   "source": []
  }
 ],
 "metadata": {
  "kernelspec": {
   "display_name": "Python 3",
   "language": "python",
   "name": "python3"
  },
  "language_info": {
   "codemirror_mode": {
    "name": "ipython",
    "version": 3
   },
   "file_extension": ".py",
   "mimetype": "text/x-python",
   "name": "python",
   "nbconvert_exporter": "python",
   "pygments_lexer": "ipython3",
   "version": "3.6.12"
  }
 },
 "nbformat": 4,
 "nbformat_minor": 4
}
